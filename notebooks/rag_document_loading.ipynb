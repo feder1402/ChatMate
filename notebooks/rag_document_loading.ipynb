{
 "cells": [
  {
   "cell_type": "markdown",
   "metadata": {},
   "source": [
    "# Document Loading"
   ]
  },
  {
   "cell_type": "code",
   "execution_count": null,
   "metadata": {},
   "outputs": [],
   "source": [
    "%pip install -q -U langchain langchain-community langchain-chroma langchain-openai faiss-cpu"
   ]
  },
  {
   "cell_type": "markdown",
   "metadata": {},
   "source": [
    "# Set Up Environment"
   ]
  },
  {
   "cell_type": "code",
   "execution_count": null,
   "metadata": {},
   "outputs": [],
   "source": [
    "# Load .env variables into the environment\n",
    "import os\n",
    "from pathlib import Path\n",
    "from dotenv import load_dotenv  \n",
    "env_path = Path('.') / '.env'\n",
    "load_dotenv(dotenv_path=env_path)"
   ]
  },
  {
   "cell_type": "markdown",
   "metadata": {},
   "source": [
    "## Load from a Directory"
   ]
  },
  {
   "cell_type": "code",
   "execution_count": 1,
   "metadata": {},
   "outputs": [
    {
     "name": "stderr",
     "output_type": "stream",
     "text": [
      "100%|██████████| 2/2 [00:00<00:00, 1712.66it/s]\n"
     ]
    },
    {
     "data": {
      "text/plain": [
       "2"
      ]
     },
     "execution_count": 1,
     "metadata": {},
     "output_type": "execute_result"
    }
   ],
   "source": [
    "from langchain_community.document_loaders import DirectoryLoader \n",
    "from langchain_community.document_loaders.text import TextLoader \n",
    "\n",
    "loader = DirectoryLoader(\"docs/\", glob=\"**/*.txt\", loader_cls=TextLoader, show_progress=True) \n",
    "dirdocs = loader.load() \n",
    "len(dirdocs) "
   ]
  },
  {
   "cell_type": "markdown",
   "metadata": {},
   "source": [
    "# Document Splitting"
   ]
  },
  {
   "cell_type": "markdown",
   "metadata": {},
   "source": [
    "## Split Documents"
   ]
  },
  {
   "cell_type": "code",
   "execution_count": 3,
   "metadata": {},
   "outputs": [],
   "source": [
    "from langchain.text_splitter import RecursiveCharacterTextSplitter\n",
    "splitter = RecursiveCharacterTextSplitter(chunk_size=1000, chunk_overlap=200)\n",
    "chunks = splitter.split_documents(dirdocs)"
   ]
  },
  {
   "cell_type": "markdown",
   "metadata": {},
   "source": [
    "# Generate Embeddings"
   ]
  },
  {
   "cell_type": "code",
   "execution_count": 4,
   "metadata": {},
   "outputs": [],
   "source": [
    "# Set up in-memory vector store\n",
    "from langchain_community.vectorstores import FAISS\n",
    "from langchain_openai import OpenAIEmbeddings\n",
    "\n",
    "embeddings = OpenAIEmbeddings(model='text-embedding-3-small')\n",
    "vector_store = FAISS.from_documents(chunks, OpenAIEmbeddings())\n",
    "\n"
   ]
  },
  {
   "cell_type": "code",
   "execution_count": 26,
   "metadata": {},
   "outputs": [],
   "source": [
    "# Helper function for printing docs\n",
    "\n",
    "\n",
    "def pretty_print_docs(docs):\n",
    "    print(\n",
    "        f\"\\n{'-' * 100}\\n\".join(\n",
    "            [f\"Document {i+1}:\\n\\n\" + d.page_content for i, d in enumerate(docs)]\n",
    "        )\n",
    "    )"
   ]
  },
  {
   "cell_type": "code",
   "execution_count": 12,
   "metadata": {},
   "outputs": [],
   "source": [
    "from typing import List\n",
    "\n",
    "from langchain_core.documents import Document\n",
    "from langchain_core.runnables import chain\n",
    "\n",
    "@chain\n",
    "def retriever(query: str) -> List[Document]:\n",
    "    docs, scores = zip(*vector_store.similarity_search_with_score(query, similarity_threshold=0.5))\n",
    "    for doc, score in zip(docs, scores):\n",
    "        doc.metadata[\"score\"] = score\n",
    "\n",
    "    return docs"
   ]
  },
  {
   "cell_type": "code",
   "execution_count": null,
   "metadata": {},
   "outputs": [],
   "source": [
    "result = retriever.invoke(\"What are the key things to know about the company?\")\n",
    "pretty_print_docs(result)"
   ]
  },
  {
   "cell_type": "code",
   "execution_count": 28,
   "metadata": {},
   "outputs": [
    {
     "name": "stdout",
     "output_type": "stream",
     "text": [
      "{'source': 'docs/darnell_summary.txt', 'score': 0.3832423}\n",
      "Document 1:\n",
      "\n",
      "6. Remind People of Their Why\n",
      "   - Know and frequently remind team members of their motivations\n",
      "   - Use their 'why' to keep them moving forward\n",
      "\n",
      "7. Develop Independent Leaders\n",
      "   - Aim to create leaders who can function without constant guidance\n",
      "   - Success comes from helping others succeed\n",
      "\n",
      "## Advice for New Associates\n",
      "1. Set proper expectations (there will be more \"no's\" than \"yes's\" initially)\n",
      "2. Utilize the established system and training\n",
      "3. Focus on getting paid, promoted, and fast-start qualified\n",
      "4. Share the opportunity through videos and scripts provided\n",
      "5. Create a positive \"first week story\" to share with future recruits\n",
      "6. Balance learning with earning\n",
      "7. Strive for independence in running your business\n",
      "\n",
      "## Keys to Success\n",
      "- Consistent plugging into the system (attending events, trainings, etc.)\n",
      "- Changing associations to those who empower and uplift you\n",
      "- Having a vision that inspires others to follow\n",
      "- Helping team members grow, which in turn helps you grow\n",
      "{'source': 'docs/darnell_summary.txt', 'score': 0.44580084}\n",
      "Document 1:\n",
      "\n",
      "Darnell emphasizes the importance of belief, perseverance, and empowering others. He encourages associates to take advantage of the training and support system while also taking action to build their business from day one.\n",
      "{'source': 'docs/darnell_summary.txt', 'score': 0.45854974}\n",
      "Document 1:\n",
      "\n",
      "## Leadership Philosophy\n",
      "1. Empower Others\n",
      "   - Leaders become great by empowering others, not through their own power\n",
      "   - Guide people to those who can lead them, even if you're not at that level yet\n",
      "\n",
      "2. Understand Influence\n",
      "   - Leaders have the ability to direct the behaviors of others\n",
      "   - Ask permission to coach and improve performance\n",
      "\n",
      "3. Effective Communication\n",
      "   - Listen to receive, not just to respond\n",
      "   - Course-correct after listening\n",
      "   - Share personal experiences and those of others\n",
      "\n",
      "4. Celebrate Success\n",
      "   - Make a habit of celebrating everything, even small achievements\n",
      "   - Reward performance and effort\n",
      "\n",
      "5. Accept Failures as Lessons\n",
      "   - See failures as signposts towards goals\n",
      "   - Every setback is an opportunity to learn and adjust\n",
      "\n",
      "6. Remind People of Their Why\n",
      "   - Know and frequently remind team members of their motivations\n",
      "   - Use their 'why' to keep them moving forward\n",
      "{'source': 'docs/company.txt', 'score': 0.49611998}\n",
      "Document 1:\n",
      "\n",
      "The name of the company is LegalShield.\n",
      "\n",
      "# LegalShield Overview\n",
      "LegalShield gives you the ability to talk to a lawyer on any personal legal matter without \n",
      "worrying about high hourly costs. That’s why, under the protection of LegalShield, you or your\n",
      " family can live your life or lives worry free. Even better, there are lawyers in your area, \n",
      " where you live or work. You also don’t have to worry about figuring out which lawyer to \n",
      " use—we’ll do that for you.\n",
      "\n",
      "# LegalShield Story\n",
      "In 1969, an Oklahoma insurance salesman named Harland Stonecipher was in a car accident. Even \n",
      "though he was not at fault, Harland had trouble paying the expensive legal fees from the \n",
      "accident. He did not want others to be caught in the same financial predicament. Three years \n",
      "later, Harland became the founder, chairman, and Chief Executive Officer of Pre-Paid Legal \n",
      "Services, Inc.\n"
     ]
    }
   ],
   "source": [
    "for doc in result:\n",
    "    print(doc.metadata)\n"
   ]
  },
  {
   "cell_type": "code",
   "execution_count": null,
   "metadata": {},
   "outputs": [],
   "source": [
    "query = \"What are the key things to know about the company?\"\n",
    "matches = vector_store.similarity_search(query, k=5)\n",
    "matches"
   ]
  }
 ],
 "metadata": {
  "kernelspec": {
   "display_name": "Python 3",
   "language": "python",
   "name": "python3"
  },
  "language_info": {
   "codemirror_mode": {
    "name": "ipython",
    "version": 3
   },
   "file_extension": ".py",
   "mimetype": "text/x-python",
   "name": "python",
   "nbconvert_exporter": "python",
   "pygments_lexer": "ipython3",
   "version": "3.11.4"
  }
 },
 "nbformat": 4,
 "nbformat_minor": 2
}
