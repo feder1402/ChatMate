{
 "cells": [
  {
   "cell_type": "markdown",
   "metadata": {},
   "source": [
    "# Evaluate query"
   ]
  },
  {
   "cell_type": "markdown",
   "metadata": {},
   "source": [
    "## Set Up "
   ]
  },
  {
   "cell_type": "code",
   "execution_count": 2,
   "metadata": {},
   "outputs": [
    {
     "name": "stdout",
     "output_type": "stream",
     "text": [
      "Note: you may need to restart the kernel to use updated packages.\n"
     ]
    }
   ],
   "source": [
    "%pip install -q -U python-dotenv datasets ipywidgets nest-asyncio langchain langchain-community langchain-chroma langchain-openai ragas "
   ]
  },
  {
   "cell_type": "code",
   "execution_count": 3,
   "metadata": {},
   "outputs": [
    {
     "data": {
      "text/plain": [
       "False"
      ]
     },
     "execution_count": 3,
     "metadata": {},
     "output_type": "execute_result"
    }
   ],
   "source": [
    "# Load .env variables into the environment\n",
    "from pathlib import Path\n",
    "from dotenv import load_dotenv  \n",
    "env_path = Path('.') / '.env'\n",
    "load_dotenv(dotenv_path=env_path)"
   ]
  },
  {
   "cell_type": "code",
   "execution_count": 4,
   "metadata": {},
   "outputs": [],
   "source": [
    "# Needed for async calls in Jupyter notebooks\n",
    "import nest_asyncio\n",
    "nest_asyncio.apply()"
   ]
  },
  {
   "cell_type": "markdown",
   "metadata": {},
   "source": []
  },
  {
   "cell_type": "markdown",
   "metadata": {},
   "source": [
    "## Generate dataset"
   ]
  },
  {
   "cell_type": "code",
   "execution_count": 5,
   "metadata": {},
   "outputs": [],
   "source": [
    "\n",
    "from datasets import Dataset \n",
    "\n",
    "data_samples = {\n",
    "    'question': [\"\"\"I'm a new associate. What should I do to be successful?\"\"\"],\n",
    "    'answer': [\"\"\"To be successful as a new associate, follow these steps:\n",
    "Get Customers: Aim to become fast start qualified by acquiring three customers and one business partner. This achievement can boost your belief level and pave the way for further success.\n",
    "\n",
    "Access Information: Quickly access available resources like videos to learn how to launch and structure your business effectively.\n",
    "\n",
    "Utilize Three-Way Calls: Engage in three-way calls to seek expert guidance in answering questions. This will help you learn while providing your prospects with the information they need.\n",
    "\n",
    "Continuous Learning: Take advantage of the various resources in your back office for continuous learning. Enhancing your knowledge and skills will make you more competent and confident in your role.\n",
    "\n",
    "Remember, consistency and dedication are key to your success as a new associate. Good luck on your journey! 🚀\"\"\"],\n",
    "    'contexts' : [[\n",
    "        \"\"\"## Getting Customers\n",
    "\n",
    "To get fast start qualified, you need three customers and one business partner. One of those customers might become an associate. This increases your belief level because you've already hit your first rank and gotten paid.\n",
    "\n",
    "## Accessing Information\n",
    "\n",
    "Gain access to as much information as fast as you can. There are several videos that will show you how to launch your business, structure it, and answer questions.\n",
    "\n",
    "## Three-Way Calls\n",
    "\n",
    "Use three-way calls to get expert help in answering questions. This way, you learn while your prospect gets the answers they need.\n",
    "\n",
    "## Continuous Learning\n",
    "\n",
    "Today, you have access to many resources right in your back office. Gain that information and education to become more competent and confident.\"\"\",\n",
    "\"\"\"# File 7: Your First 48 Hours - Darnell Self Captions\n",
    "\n",
    "## Introduction: Welcome\n",
    "Greetings and welcome to the PPLSI family. My name is Darnell Self. I've been working from home in Maryland for over 20 years because of this amazing company.\n",
    "\n",
    "## First 48 Hours\n",
    "It's your first 48 hours, and if I had to do it all again, I would do it just like this. Find a local event and attend. Proximity has power. Get around the most successful associates.\n",
    "\n",
    "## Fast Start Qualification\n",
    "We want to get you paid and promoted, called fast start qualified. The company gives you 20 days to earn your bonuses. Why not do it in your first two days?\n",
    "\n",
    "## Getting Customers\n",
    "To get fast start qualified, you need three customers and one business partner. One of those customers might become an associate. This increases your belief level.\n",
    "\n",
    "## Accessing Information\n",
    "Gain access to information quickly. There are videos that will show you how to launch and structure your business.\"\"\",\n",
    "\"\"\"## Three-Way Calls\n",
    "Use three-way calls to get expert help in answering questions. This way, you learn while your prospect gets the answers they need.\n",
    "\n",
    "## Continuous Learning\n",
    "You have access to many resources in your back office. Gain that information and education to become more competent and confident.\n",
    "\n",
    "## Conclusion\n",
    "I'm excited for you. I can't wait to celebrate your first rank advancement. Welcome again to the PPLSI family.\"\"\"\n",
    "        ]],\n",
    "    'ground_truth': [\"\"\"Welcome to PPLSI! Here are the key steps you should follow to be successful as a new associate:\n",
    "\n",
    "1. Make a List of Contacts\n",
    "Start by making a list of ten people you know well. These should be individuals who trust you and whom you care about. You'll receive a script to help you introduce them to the business without having to come up with the words yourself​​​​.\n",
    "\n",
    "2. Attend Local Events\n",
    "Find and attend local events in your area. Proximity to successful associates can be very powerful, and these events can be attended either in person or via Zoom. Engaging with successful people early on will help you learn and grow​​.\n",
    "\n",
    "3. Fast Start Qualification\n",
    "Aim to get paid and promoted quickly by becoming fast start qualified. This means attending the fast start training, securing your first three customers, and recruiting one business partner. Doing this within your first 48 hours can significantly boost your belief in the business and give you a strong start​​​​.\n",
    "\n",
    "4. Leverage the System\n",
    "Utilize the system and tools provided. This includes using scripts, sending videos to prospects, and making three-way calls with your sponsor or other leaders for support. These resources are designed to help you communicate the value of PPLSI effectively and confidently​​​​​​.\n",
    "\n",
    "5. Engage in Continuous Learning\n",
    "Access as much information and training as quickly as possible. There are numerous videos and training sessions available that cover various aspects of building and managing your business. This will help you become more competent and confident​​​​.\n",
    "\n",
    "6. Create a Personalized Game Plan\n",
    "Work with your sponsor to create a personalized game plan based on your goals and available time. This plan should align with your income goals and the time you can commit to the business​​​​.\n",
    "\n",
    "7. Develop a Strong Belief and Vision\n",
    "Understand that belief is crucial. Everything happens for a reason and contributes to your growth. Cultivate a positive mindset and believe in the system and your ability to succeed. Visualize your goals and work towards them with determination​​.\n",
    "\n",
    "8. Empower Others\n",
    "Focus on building and empowering a team of independent leaders. This means guiding them to resources and leaders who can mentor them, and celebrating their successes to foster a culture of growth and positivity​​.\n",
    "\n",
    "9. Share Your Story\n",
    "Your experiences, especially in the first week and month, are valuable. Share your journey with others to inspire and attract new associates. Creating a compelling story of early success can help you connect with potential recruits and customers​​.\n",
    "\n",
    "Conclusion\n",
    "Stay committed, utilize the resources and support available, and maintain a positive and proactive approach. Your success will not only be measured by your personal achievements but also by how you empower and lead others to succeed.\"\"\"]\n",
    "}\n",
    "dataset = Dataset.from_dict(data_samples)"
   ]
  },
  {
   "cell_type": "code",
   "execution_count": 8,
   "metadata": {},
   "outputs": [
    {
     "data": {
      "application/vnd.jupyter.widget-view+json": {
       "model_id": "0e6ce2c5d57d45f6abf14e339638fe71",
       "version_major": 2,
       "version_minor": 0
      },
      "text/plain": [
       "Evaluating:   0%|          | 0/6 [00:00<?, ?it/s]"
      ]
     },
     "metadata": {},
     "output_type": "display_data"
    }
   ],
   "source": [
    "## Evaluate dataset\n",
    "from ragas import evaluate\n",
    "from ragas.metrics import (\n",
    "    faithfulness,\n",
    "    answer_relevancy,\n",
    "    answer_correctness,\n",
    "    context_precision,\n",
    "    context_entity_recall,\n",
    "    answer_similarity\n",
    ")\n",
    "\n",
    "metrics = [\n",
    "    faithfulness,\n",
    "    answer_relevancy,\n",
    "    answer_correctness,\n",
    "    context_precision,\n",
    "    context_entity_recall,\n",
    "    answer_similarity\n",
    "]\n",
    "\n",
    "results = evaluate(dataset, metrics=metrics)\n"
   ]
  },
  {
   "cell_type": "code",
   "execution_count": 9,
   "metadata": {},
   "outputs": [
    {
     "data": {
      "text/plain": [
       "{'faithfulness': 0.7778, 'answer_relevancy': 0.9518, 'answer_correctness': 0.3740, 'context_precision': 0.8333, 'context_entity_recall': 0.1304, 'answer_similarity': 0.8785}"
      ]
     },
     "execution_count": 9,
     "metadata": {},
     "output_type": "execute_result"
    }
   ],
   "source": [
    "results"
   ]
  }
 ],
 "metadata": {
  "kernelspec": {
   "display_name": "Python 3",
   "language": "python",
   "name": "python3"
  },
  "language_info": {
   "codemirror_mode": {
    "name": "ipython",
    "version": 3
   },
   "file_extension": ".py",
   "mimetype": "text/x-python",
   "name": "python",
   "nbconvert_exporter": "python",
   "pygments_lexer": "ipython3",
   "version": "3.11.4"
  }
 },
 "nbformat": 4,
 "nbformat_minor": 2
}
