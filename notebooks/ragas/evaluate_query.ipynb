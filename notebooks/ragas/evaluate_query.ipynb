{
 "cells": [
  {
   "cell_type": "markdown",
   "metadata": {},
   "source": [
    "# Evaluate query"
   ]
  },
  {
   "cell_type": "markdown",
   "metadata": {},
   "source": [
    "## Set Up "
   ]
  },
  {
   "cell_type": "code",
   "execution_count": null,
   "metadata": {},
   "outputs": [],
   "source": [
    "%pip install -q -U python-dotenv datasets ipywidgets nest-asyncio langchain langchain-community langchain-chroma langchain-openai ragas "
   ]
  },
  {
   "cell_type": "code",
   "execution_count": null,
   "metadata": {},
   "outputs": [],
   "source": [
    "# Load .env variables into the environment\n",
    "from pathlib import Path\n",
    "from dotenv import load_dotenv  \n",
    "env_path = Path('.') / '.env'\n",
    "load_dotenv(dotenv_path=env_path)"
   ]
  },
  {
   "cell_type": "code",
   "execution_count": null,
   "metadata": {},
   "outputs": [],
   "source": [
    "# Needed for async calls in Jupyter notebooks\n",
    "import nest_asyncio\n",
    "nest_asyncio.apply()"
   ]
  },
  {
   "cell_type": "markdown",
   "metadata": {},
   "source": []
  },
  {
   "cell_type": "markdown",
   "metadata": {},
   "source": [
    "## Generate dataset"
   ]
  },
  {
   "cell_type": "code",
   "execution_count": null,
   "metadata": {},
   "outputs": [],
   "source": [
    "\n",
    "from datasets import Dataset \n",
    "\n",
    "data_samples = {\n",
    "    'question': [\"\"\"I'm a new associate. What should I do to be successful?\"\"\"],\n",
    "    'answer': [\"\"\"To be successful as a new associate, follow these steps:\n",
    "Get Customers: Aim to become fast start qualified by acquiring three customers and one business partner. This achievement can boost your belief level and pave the way for further success.\n",
    "\n",
    "Access Information: Quickly access available resources like videos to learn how to launch and structure your business effectively.\n",
    "\n",
    "Utilize Three-Way Calls: Engage in three-way calls to seek expert guidance in answering questions. This will help you learn while providing your prospects with the information they need.\n",
    "\n",
    "Continuous Learning: Take advantage of the various resources in your back office for continuous learning. Enhancing your knowledge and skills will make you more competent and confident in your role.\n",
    "\n",
    "Remember, consistency and dedication are key to your success as a new associate. Good luck on your journey! 🚀\"\"\"],\n",
    "    'contexts' : [[\n",
    "        \"\"\"## Getting Customers\n",
    "\n",
    "To get fast start qualified, you need three customers and one business partner. One of those customers might become an associate. This increases your belief level because you've already hit your first rank and gotten paid.\n",
    "\n",
    "## Accessing Information\n",
    "\n",
    "Gain access to as much information as fast as you can. There are several videos that will show you how to launch your business, structure it, and answer questions.\n",
    "\n",
    "## Three-Way Calls\n",
    "\n",
    "Use three-way calls to get expert help in answering questions. This way, you learn while your prospect gets the answers they need.\n",
    "\n",
    "## Continuous Learning\n",
    "\n",
    "Today, you have access to many resources right in your back office. Gain that information and education to become more competent and confident.\"\"\",\n",
    "\"\"\"# File 7: Your First 48 Hours - Darnell Self Captions\n",
    "\n",
    "## Introduction: Welcome\n",
    "Greetings and welcome to the PPLSI family. My name is Darnell Self. I've been working from home in Maryland for over 20 years because of this amazing company.\n",
    "\n",
    "## First 48 Hours\n",
    "It's your first 48 hours, and if I had to do it all again, I would do it just like this. Find a local event and attend. Proximity has power. Get around the most successful associates.\n",
    "\n",
    "## Fast Start Qualification\n",
    "We want to get you paid and promoted, called fast start qualified. The company gives you 20 days to earn your bonuses. Why not do it in your first two days?\n",
    "\n",
    "## Getting Customers\n",
    "To get fast start qualified, you need three customers and one business partner. One of those customers might become an associate. This increases your belief level.\n",
    "\n",
    "## Accessing Information\n",
    "Gain access to information quickly. There are videos that will show you how to launch and structure your business.\"\"\",\n",
    "\"\"\"## Three-Way Calls\n",
    "Use three-way calls to get expert help in answering questions. This way, you learn while your prospect gets the answers they need.\n",
    "\n",
    "## Continuous Learning\n",
    "You have access to many resources in your back office. Gain that information and education to become more competent and confident.\n",
    "\n",
    "## Conclusion\n",
    "I'm excited for you. I can't wait to celebrate your first rank advancement. Welcome again to the PPLSI family.\"\"\"\n",
    "        ]],\n",
    "#     'ground_truth': [\"\"\"Welcome to PPLSI! Here are the key steps you should follow to be successful as a new associate:\n",
    "\n",
    "# 1. Make a List of Contacts\n",
    "# Start by making a list of ten people you know well. These should be individuals who trust you and whom you care about. You'll receive a script to help you introduce them to the business without having to come up with the words yourself​​​​.\n",
    "\n",
    "# 2. Attend Local Events\n",
    "# Find and attend local events in your area. Proximity to successful associates can be very powerful, and these events can be attended either in person or via Zoom. Engaging with successful people early on will help you learn and grow​​.\n",
    "\n",
    "# 3. Fast Start Qualification\n",
    "# Aim to get paid and promoted quickly by becoming fast start qualified. This means attending the fast start training, securing your first three customers, and recruiting one business partner. Doing this within your first 48 hours can significantly boost your belief in the business and give you a strong start​​​​.\n",
    "\n",
    "# 4. Leverage the System\n",
    "# Utilize the system and tools provided. This includes using scripts, sending videos to prospects, and making three-way calls with your sponsor or other leaders for support. These resources are designed to help you communicate the value of PPLSI effectively and confidently​​​​​​.\n",
    "\n",
    "# 5. Engage in Continuous Learning\n",
    "# Access as much information and training as quickly as possible. There are numerous videos and training sessions available that cover various aspects of building and managing your business. This will help you become more competent and confident​​​​.\n",
    "\n",
    "# 6. Create a Personalized Game Plan\n",
    "# Work with your sponsor to create a personalized game plan based on your goals and available time. This plan should align with your income goals and the time you can commit to the business​​​​.\n",
    "\n",
    "# 7. Develop a Strong Belief and Vision\n",
    "# Understand that belief is crucial. Everything happens for a reason and contributes to your growth. Cultivate a positive mindset and believe in the system and your ability to succeed. Visualize your goals and work towards them with determination​​.\n",
    "\n",
    "# 8. Empower Others\n",
    "# Focus on building and empowering a team of independent leaders. This means guiding them to resources and leaders who can mentor them, and celebrating their successes to foster a culture of growth and positivity​​.\n",
    "\n",
    "# 9. Share Your Story\n",
    "# Your experiences, especially in the first week and month, are valuable. Share your journey with others to inspire and attract new associates. Creating a compelling story of early success can help you connect with potential recruits and customers​​.\n",
    "\n",
    "# Conclusion\n",
    "# Stay committed, utilize the resources and support available, and maintain a positive and proactive approach. Your success will not only be measured by your personal achievements but also by how you empower and lead others to succeed.\"\"\"]\n",
    "}\n",
    "dataset = Dataset.from_dict(data_samples)"
   ]
  },
  {
   "cell_type": "code",
   "execution_count": 15,
   "metadata": {},
   "outputs": [
    {
     "ename": "ValueError",
     "evalue": "The metric [summary_score] that that is used requires the following additional columns ['summary'] to be present in the dataset. ",
     "output_type": "error",
     "traceback": [
      "\u001b[0;31m---------------------------------------------------------------------------\u001b[0m",
      "\u001b[0;31mValueError\u001b[0m                                Traceback (most recent call last)",
      "Cell \u001b[0;32mIn[15], line 26\u001b[0m\n\u001b[1;32m     12\u001b[0m \u001b[38;5;28;01mfrom\u001b[39;00m \u001b[38;5;21;01mragas\u001b[39;00m\u001b[38;5;21;01m.\u001b[39;00m\u001b[38;5;21;01mmetrics\u001b[39;00m\u001b[38;5;21;01m.\u001b[39;00m\u001b[38;5;21;01mcritique\u001b[39;00m \u001b[38;5;28;01mimport\u001b[39;00m (\n\u001b[1;32m     13\u001b[0m         harmfulness, maliciousness, coherence, correctness, conciseness,\n\u001b[1;32m     14\u001b[0m )\n\u001b[1;32m     16\u001b[0m metrics \u001b[38;5;241m=\u001b[39m [\n\u001b[1;32m     17\u001b[0m     faithfulness,\n\u001b[1;32m     18\u001b[0m     answer_relevancy,\n\u001b[0;32m   (...)\u001b[0m\n\u001b[1;32m     23\u001b[0m  \u001b[38;5;66;03m#   answer_similarity\u001b[39;00m\n\u001b[1;32m     24\u001b[0m ]\n\u001b[0;32m---> 26\u001b[0m results \u001b[38;5;241m=\u001b[39m \u001b[43mevaluate\u001b[49m\u001b[43m(\u001b[49m\u001b[43mdataset\u001b[49m\u001b[43m,\u001b[49m\u001b[43m \u001b[49m\u001b[43mmetrics\u001b[49m\u001b[38;5;241;43m=\u001b[39;49m\u001b[43mmetrics\u001b[49m\u001b[43m)\u001b[49m\n",
      "File \u001b[0;32m~/python/streamit/hello_streamlit/.venv/lib/python3.11/site-packages/ragas/evaluation.py:156\u001b[0m, in \u001b[0;36mevaluate\u001b[0;34m(dataset, metrics, llm, embeddings, callbacks, in_ci, is_async, run_config, raise_exceptions, column_map)\u001b[0m\n\u001b[1;32m    154\u001b[0m \u001b[38;5;66;03m# validation\u001b[39;00m\n\u001b[1;32m    155\u001b[0m dataset \u001b[38;5;241m=\u001b[39m handle_deprecated_ground_truths(dataset)\n\u001b[0;32m--> 156\u001b[0m \u001b[43mvalidate_evaluation_modes\u001b[49m\u001b[43m(\u001b[49m\u001b[43mdataset\u001b[49m\u001b[43m,\u001b[49m\u001b[43m \u001b[49m\u001b[43mmetrics\u001b[49m\u001b[43m)\u001b[49m\n\u001b[1;32m    157\u001b[0m validate_column_dtypes(dataset)\n\u001b[1;32m    159\u001b[0m \u001b[38;5;66;03m# set the llm and embeddings\u001b[39;00m\n",
      "File \u001b[0;32m~/python/streamit/hello_streamlit/.venv/lib/python3.11/site-packages/ragas/validation.py:97\u001b[0m, in \u001b[0;36mvalidate_evaluation_modes\u001b[0;34m(ds, metrics, evalmode_to_columns)\u001b[0m\n\u001b[1;32m     91\u001b[0m \u001b[38;5;28;01mif\u001b[39;00m (\n\u001b[1;32m     92\u001b[0m     \u001b[38;5;28misinstance\u001b[39m(m, ContextPrecision)\n\u001b[1;32m     93\u001b[0m     \u001b[38;5;129;01mand\u001b[39;00m \u001b[38;5;124m\"\u001b[39m\u001b[38;5;124mground_truth\u001b[39m\u001b[38;5;124m\"\u001b[39m \u001b[38;5;129;01mnot\u001b[39;00m \u001b[38;5;129;01min\u001b[39;00m available_columns\n\u001b[1;32m     94\u001b[0m ):\n\u001b[1;32m     95\u001b[0m     extra_msg \u001b[38;5;241m=\u001b[39m \u001b[38;5;124m\"\u001b[39m\u001b[38;5;124mLooks like you\u001b[39m\u001b[38;5;124m'\u001b[39m\u001b[38;5;124mre trying to use \u001b[39m\u001b[38;5;124m'\u001b[39m\u001b[38;5;124mcontext_precision\u001b[39m\u001b[38;5;124m'\u001b[39m\u001b[38;5;124m without ground_truth. Please use consider using  `context_utilization\u001b[39m\u001b[38;5;124m'\u001b[39m\u001b[38;5;124m instead.\u001b[39m\u001b[38;5;124m\"\u001b[39m\n\u001b[0;32m---> 97\u001b[0m \u001b[38;5;28;01mraise\u001b[39;00m \u001b[38;5;167;01mValueError\u001b[39;00m(\n\u001b[1;32m     98\u001b[0m     \u001b[38;5;124mf\u001b[39m\u001b[38;5;124m\"\u001b[39m\u001b[38;5;124mThe metric [\u001b[39m\u001b[38;5;132;01m{\u001b[39;00mm\u001b[38;5;241m.\u001b[39mname\u001b[38;5;132;01m}\u001b[39;00m\u001b[38;5;124m] that that is used requires the following \u001b[39m\u001b[38;5;124m\"\u001b[39m\n\u001b[1;32m     99\u001b[0m     \u001b[38;5;124mf\u001b[39m\u001b[38;5;124m\"\u001b[39m\u001b[38;5;124madditional columns \u001b[39m\u001b[38;5;132;01m{\u001b[39;00m\u001b[38;5;28mlist\u001b[39m(required_columns\u001b[38;5;250m \u001b[39m\u001b[38;5;241m-\u001b[39m\u001b[38;5;250m \u001b[39mavailable_columns)\u001b[38;5;132;01m}\u001b[39;00m\u001b[38;5;124m \u001b[39m\u001b[38;5;124m\"\u001b[39m\n\u001b[1;32m    100\u001b[0m     \u001b[38;5;124mf\u001b[39m\u001b[38;5;124m\"\u001b[39m\u001b[38;5;124mto be present in the dataset. \u001b[39m\u001b[38;5;132;01m{\u001b[39;00mextra_msg\u001b[38;5;132;01m}\u001b[39;00m\u001b[38;5;124m\"\u001b[39m\n\u001b[1;32m    101\u001b[0m )\n",
      "\u001b[0;31mValueError\u001b[0m: The metric [summary_score] that that is used requires the following additional columns ['summary'] to be present in the dataset. "
     ]
    }
   ],
   "source": [
    "## Evaluate dataset\n",
    "from ragas import evaluate\n",
    "from ragas.metrics import (\n",
    "    faithfulness,\n",
    "    answer_relevancy,\n",
    "    summarization_score,\n",
    "    answer_correctness,\n",
    "    context_precision,\n",
    "    context_entity_recall,\n",
    "    answer_similarity\n",
    ")\n",
    "from ragas.metrics.critique import (\n",
    "        harmfulness, maliciousness, coherence, correctness, conciseness,\n",
    ")\n",
    "\n",
    "metrics = [\n",
    "    faithfulness,\n",
    "    answer_relevancy,\n",
    "]\n",
    "\n",
    "results = evaluate(dataset, metrics=metrics)\n"
   ]
  },
  {
   "cell_type": "code",
   "execution_count": 14,
   "metadata": {},
   "outputs": [
    {
     "data": {
      "text/plain": [
       "{'faithfulness': 0.7778, 'answer_relevancy': 0.9518, 'harmfulness': 0.0000, 'maliciousness': 0.0000, 'coherence': 1.0000, 'correctness': 1.0000, 'conciseness': 1.0000}"
      ]
     },
     "execution_count": 14,
     "metadata": {},
     "output_type": "execute_result"
    }
   ],
   "source": [
    "results"
   ]
  }
 ],
 "metadata": {
  "kernelspec": {
   "display_name": "Python 3",
   "language": "python",
   "name": "python3"
  },
  "language_info": {
   "codemirror_mode": {
    "name": "ipython",
    "version": 3
   },
   "file_extension": ".py",
   "mimetype": "text/x-python",
   "name": "python",
   "nbconvert_exporter": "python",
   "pygments_lexer": "ipython3",
   "version": "3.11.4"
  }
 },
 "nbformat": 4,
 "nbformat_minor": 2
}
